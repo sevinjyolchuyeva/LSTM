{
 "cells": [
  {
   "cell_type": "code",
   "execution_count": null,
   "metadata": {
    "collapsed": false
   },
   "outputs": [],
   "source": [
    "# Createing NN in Keras\n",
    "from keras.models import Sequential\n",
    "from keras.layers import Dense\n",
    "from sklearn.cross_validation import train_test_split\n",
    "import numpy as np\n",
    "import random\n",
    "import csv\n",
    "\n",
    "data = []\n",
    "output=[]\n",
    "\n",
    "with open('/home/agil/Desktop/hw/data.csv','r') as f:\n",
    "    csvreader = csv.DictReader(f)\n",
    "    for item in csvreader:\n",
    "        data.append([ item['DATE'], item['AUTHOR'], item['CONTENT'] ])\n",
    "        output.append(item['CLASS'])\n",
    "\n",
    "# The elements of the 'data' array: ['date string', 'author', 'comment', 'class label ('0': not spam, '1': spam)']\n",
    "        \n",
    "data = np.asarray(data)\n",
    "y=np.array(output)\n",
    "print('y_shape:',y.shape) #target size\n"
   ]
  },
  {
   "cell_type": "code",
   "execution_count": null,
   "metadata": {
    "collapsed": false
   },
   "outputs": [],
   "source": [
    "#data prepation for training\n",
    "# I created one-hot vector representations for data\n",
    "XX=[]\n",
    "max_len=10 #\n",
    "import numpy as np\n",
    "for i in range(len(data)):\n",
    "    z=(data[i,0]+' '+data[i,1]+' '+data[i,2]).lower().encode('utf-8') # I want to join matrix colums\n",
    "    a=len(z)\n",
    "    if max_len<a:\n",
    "        max_len=a\n",
    "    XX.append(z)\n",
    "\n",
    "print('Max_length', max_len)    #maximal length of line\n",
    "\n",
    "num_data=len(XX)"
   ]
  },
  {
   "cell_type": "code",
   "execution_count": null,
   "metadata": {
    "collapsed": false
   },
   "outputs": [],
   "source": [
    "b=set()\n",
    "for i in range(1953):\n",
    "    b=b | set(XX[i])\n",
    "\n",
    "chars=sorted(list(b))\n",
    "\n",
    "\n",
    "len_chars=len(chars)\n",
    "char_indices = dict((c, i) for i, c in enumerate(chars))\n",
    "\n",
    "print ('length_chars: ',len_chars)"
   ]
  },
  {
   "cell_type": "code",
   "execution_count": null,
   "metadata": {
    "collapsed": false
   },
   "outputs": [],
   "source": [
    "#one-hot vector\n",
    "\n",
    "X = np.zeros((num_data,max_len,len_chars),dtype=np.bool)\n",
    "for i, sentence in enumerate(XX):\n",
    "    for t, char in enumerate(sentence):\n",
    "        X[i, t, char_indices[char]] = 1\n",
    "       \n",
    "\n",
    "X=X.reshape(num_data,max_len*len_chars)\n",
    "\n",
    "\n",
    "print(X.shape) "
   ]
  },
  {
   "cell_type": "code",
   "execution_count": null,
   "metadata": {
    "collapsed": false
   },
   "outputs": [],
   "source": [
    "#split data into train and test data \n",
    "X_train, X_test, y_train, y_test = train_test_split( X, y, test_size=0.3, random_state=0)\n",
    "\n",
    "print('X_tarin: ',X_train.shape)\n",
    "print('y_train: ', y_train.shape)\n",
    "print('X_test: ',X_test.shape)\n",
    "print('y_test: ',y_test.shape)"
   ]
  },
  {
   "cell_type": "code",
   "execution_count": null,
   "metadata": {
    "collapsed": false
   },
   "outputs": [],
   "source": [
    "dimension=X.shape[1]\n",
    "model = Sequential()\n",
    "model.add(Dense(16, input_dim=dimension,init='uniform',activation='relu'))\n",
    "model.add(Dense(8, activation='relu'))\n",
    "model.add(Dense(1, activation='sigmoid'))\n",
    "model.summary()\n",
    "# Compile the model\n",
    "model.compile(loss='binary_crossentropy', optimizer='adam', metrics=['accuracy'])\n",
    "# Fit the model\n",
    "model.fit(X_train, y_train, nb_epoch=5, batch_size=8,verbose=1)\n",
    "# Evaluate the model\n",
    "scores = model.evaluate(X_test, y_test)\n",
    "print('Accurancy: ', scores[1]*100)"
   ]
  },
  {
   "cell_type": "code",
   "execution_count": null,
   "metadata": {
    "collapsed": false
   },
   "outputs": [],
   "source": [
    "#Or I can compute accurancy as in below\n",
    "predictions = model.predict_classes(X_test,batch_size=1) \n",
    "\n",
    "s=0\n",
    "for i in range(X_test.shape[0]):\n",
    "    if int(predictions[i])==int(y_test[i]):\n",
    "        s+=1\n",
    "\n",
    "print('Accurancy: ',float(s)*100/X_test.shape[0])\n"
   ]
  },
  {
   "cell_type": "code",
   "execution_count": null,
   "metadata": {
    "collapsed": true
   },
   "outputs": [],
   "source": []
  }
 ],
 "metadata": {
  "kernelspec": {
   "display_name": "Python 3",
   "language": "python",
   "name": "python3"
  },
  "language_info": {
   "codemirror_mode": {
    "name": "ipython",
    "version": 3
   },
   "file_extension": ".py",
   "mimetype": "text/x-python",
   "name": "python",
   "nbconvert_exporter": "python",
   "pygments_lexer": "ipython3",
   "version": "3.6.0"
  }
 },
 "nbformat": 4,
 "nbformat_minor": 2
}
